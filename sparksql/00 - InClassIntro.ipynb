{
  "cells": [
    {
      "cell_type": "markdown",
      "metadata": {
        "id": "view-in-github",
        "colab_type": "text"
      },
      "source": [
        "<a href=\"https://colab.research.google.com/github/byu-cs-452/byu-cs-452-class-content/blob/main/sparksql/00%20-%20InClassIntro.ipynb\" target=\"_parent\"><img src=\"https://colab.research.google.com/assets/colab-badge.svg\" alt=\"Open In Colab\"/></a>"
      ]
    },
    {
      "cell_type": "code",
      "execution_count": null,
      "metadata": {
        "id": "XHFPrwyRNgPS"
      },
      "outputs": [],
      "source": [
        "# Setup Spark SQL\n",
        "# Note if running locally you need the JVM https://www.oracle.com/java/technologies/downloads/\n",
        "# Consider running in https://colab.research.google.com/\n",
        "%pip install pyspark"
      ]
    },
    {
      "cell_type": "code",
      "execution_count": null,
      "metadata": {
        "id": "aFNbBfrTNgPS"
      },
      "outputs": [],
      "source": [
        "import pyspark\n",
        "from pyspark.sql import SparkSession\n",
        "\n",
        "spark = SparkSession.builder \\\n",
        "    .appName(\"HelloWorld\") \\\n",
        "    .getOrCreate()\n",
        "sc = spark.sparkContext\n",
        "sc.setLogLevel('WARN')"
      ]
    },
    {
      "cell_type": "code",
      "execution_count": null,
      "metadata": {
        "id": "0lGAPAmhNgPT"
      },
      "outputs": [],
      "source": [
        "nums = sc.parallelize([1,2,3,4])\n",
        "print(nums.map(lambda x: x*x).collect())"
      ]
    },
    {
      "cell_type": "code",
      "execution_count": null,
      "metadata": {
        "id": "hqOfqw4_NgPT"
      },
      "outputs": [],
      "source": [
        "# Download the Book of Mormon as a text file from Gutenburg\n",
        "!curl -L https://ia601205.us.archive.org/18/items/thebookofmormon00017gut/mormon13.txt > bookOfMormon.txt"
      ]
    },
    {
      "cell_type": "code",
      "execution_count": null,
      "metadata": {
        "id": "9V6D5JcMNgPT"
      },
      "outputs": [],
      "source": [
        "# Read all the lines of the text file (textFile auto does parallelization)\n",
        "lines = sc.textFile(\"bookOfMormon.txt\")\n",
        "\n",
        "lines.top(10)"
      ]
    },
    {
      "cell_type": "code",
      "execution_count": null,
      "metadata": {
        "id": "QQlhzDUdNgPT"
      },
      "outputs": [],
      "source": [
        "# Count how many lines there are\n",
        "lines.count()"
      ]
    },
    {
      "cell_type": "code",
      "execution_count": null,
      "metadata": {
        "id": "ROnWlnTzNgPT"
      },
      "outputs": [],
      "source": [
        "# Count how many duplicate lines?\n",
        "allCount = lines.count()\n",
        "distinctCount = lines.distinct().count()\n",
        "\n",
        "allCount - distinctCount"
      ]
    },
    {
      "cell_type": "code",
      "execution_count": null,
      "metadata": {
        "id": "5-iCvdT8NgPT"
      },
      "outputs": [],
      "source": [
        "# What are some of those duplicate lines?\n",
        "\n",
        "# start each line count at one, key = line (key, count)\n",
        "lineCounts = lines.map(lambda line: (line, 1))\n",
        "\n",
        "lineCounts.take(10)"
      ]
    },
    {
      "cell_type": "code",
      "execution_count": null,
      "metadata": {
        "id": "ErWSdfXvNgPT"
      },
      "outputs": [],
      "source": [
        "# reduce by key in a parrellel way, matching up duplicate lines and summing their counts\n",
        "lineCounts = lineCounts.reduceByKey(lambda lineCount1, lineCount2: lineCount1 + lineCount2)\n",
        "\n",
        "lineCounts.take(10)"
      ]
    },
    {
      "cell_type": "code",
      "execution_count": null,
      "metadata": {
        "id": "V8nPvopQNgPU"
      },
      "outputs": [],
      "source": [
        "sortedLineCounts = lineCounts.sortBy(lambda t: t[1], False)\n",
        "sortedLineCounts.take(20)"
      ]
    },
    {
      "cell_type": "code",
      "execution_count": null,
      "metadata": {
        "id": "DIdlu1MzNgPU"
      },
      "outputs": [],
      "source": [
        "# What would you you need to count all the words?"
      ]
    },
    {
      "cell_type": "code",
      "execution_count": null,
      "metadata": {
        "id": "qmrteUOWNgPU"
      },
      "outputs": [],
      "source": [
        "# Python tip -\n",
        "import re\n",
        "line = \"What is this? 1. A Helicopter. 2. A plane. 3. Super hero\"\n",
        "re.split('[^a-zA-Z]', line)"
      ]
    },
    {
      "cell_type": "code",
      "execution_count": null,
      "metadata": {
        "id": "WlYcx2DhNgPU"
      },
      "outputs": [],
      "source": [
        "# Python tip\n",
        "\"This Had somE uPPerCase LeTtErs\".lower()"
      ]
    },
    {
      "cell_type": "code",
      "execution_count": null,
      "metadata": {
        "id": "ApPUjbOtNgPU"
      },
      "outputs": [],
      "source": [
        "# SparkSQL tip!\n",
        "# Flat map  -- take rows of arrays and make each element in array a new row a\n",
        "\n",
        "sentences = sc.parallelize([\"Hello World!\", \"Take your vitamins!\", \"Get enough sleep!\"])\n",
        "words = sentences.flatMap(lambda sentence: sentence.split())\n",
        "words.take(20)"
      ]
    }
  ],
  "metadata": {
    "kernelspec": {
      "display_name": "Python 3.10.9 64-bit",
      "language": "python",
      "name": "python3"
    },
    "language_info": {
      "codemirror_mode": {
        "name": "ipython",
        "version": 3
      },
      "file_extension": ".py",
      "mimetype": "text/x-python",
      "name": "python",
      "nbconvert_exporter": "python",
      "pygments_lexer": "ipython3",
      "version": "3.11.3"
    },
    "orig_nbformat": 4,
    "vscode": {
      "interpreter": {
        "hash": "b0fa6594d8f4cbf19f97940f81e996739fb7646882a419484c72d19e05852a7e"
      }
    },
    "colab": {
      "provenance": [],
      "include_colab_link": true
    }
  },
  "nbformat": 4,
  "nbformat_minor": 0
}